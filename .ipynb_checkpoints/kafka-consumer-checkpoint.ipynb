{
 "cells": [
  {
   "cell_type": "code",
   "execution_count": 1,
   "id": "cc0c8813",
   "metadata": {},
   "outputs": [
    {
     "name": "stdout",
     "output_type": "stream",
     "text": [
      "Requirement already satisfied: kafka-python in ./venv/lib/python3.10/site-packages (2.0.2)\r\n"
     ]
    }
   ],
   "source": [
    "!pip install kafka-python"
   ]
  },
  {
   "cell_type": "code",
   "execution_count": 2,
   "id": "e3320d77",
   "metadata": {},
   "outputs": [],
   "source": [
    "from time import sleep\n",
    "from kafka import KafkaConsumer\n",
    "import json\n",
    "import pandas as pd"
   ]
  },
  {
   "cell_type": "code",
   "execution_count": 3,
   "id": "5e308baf",
   "metadata": {},
   "outputs": [],
   "source": [
    "KAFKA_SERVER=\"18.198.23.59:9092\"\n",
    "TOPIC_NAME=\"demo_test\"\n",
    "consumer = KafkaConsumer(TOPIC_NAME,\n",
    "                         bootstrap_servers=[KAFKA_SERVER],\n",
    "                         value_deserializer=lambda x: json.loads(x.decode(\"utf-8\"))\n",
    "                        )"
   ]
  },
  {
   "cell_type": "code",
   "execution_count": null,
   "id": "063865c3",
   "metadata": {},
   "outputs": [],
   "source": [
    "for c in consumer:\n",
    "    print(c.value)"
   ]
  }
 ],
 "metadata": {
  "kernelspec": {
   "display_name": "Python 3 (ipykernel)",
   "language": "python",
   "name": "python3"
  },
  "language_info": {
   "codemirror_mode": {
    "name": "ipython",
    "version": 3
   },
   "file_extension": ".py",
   "mimetype": "text/x-python",
   "name": "python",
   "nbconvert_exporter": "python",
   "pygments_lexer": "ipython3",
   "version": "3.10.6"
  }
 },
 "nbformat": 4,
 "nbformat_minor": 5
}
